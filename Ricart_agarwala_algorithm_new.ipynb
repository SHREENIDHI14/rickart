{
  "nbformat": 4,
  "nbformat_minor": 0,
  "metadata": {
    "colab": {
      "name": "Ricart-agarwala-algorithm-new",
      "provenance": []
    },
    "kernelspec": {
      "name": "python3",
      "display_name": "Python 3"
    },
    "language_info": {
      "name": "python"
    }
  },
  "cells": [
    {
      "cell_type": "code",
      "metadata": {
        "id": "2e25E3bQOq-b"
      },
      "source": [
        "#importing:\n",
        "import numpy as np\n",
        "import random"
      ],
      "execution_count": 26,
      "outputs": []
    },
    {
      "cell_type": "code",
      "metadata": {
        "id": "Kvd_CvvEOwYp"
      },
      "source": [
        "# Actually ricart agarawala algorithm is dealing with two main messages that is \"REQUEST\" and \"REPLY\"\n",
        "# THE BASIC IDEA:\n",
        "# A process or the site send a request message to allother site in order to attend the critical seciton.\n",
        "# But it can only attend critical section iff it recieve the reply from the respective site.\n",
        "# And this occurs based on the priority check with timestamp(if time stamp is less it gets the higher priority than other)\n",
        "class processing():\n",
        "    def __init__(self,number):\n",
        "        self.PNUMBER = number\n",
        "        self.STATES=\"RELEASED\"\n",
        "        self.REPLY_QUEUE = []\n",
        "        self.REQUESTING_QUEUE = []\n",
        "        self.TIMESTAMP_VALUE = np.nan # here we initialize the timestamp value\n",
        "    def req(self,processing):\n",
        "        if processing.getreq(self.PNUMBER,self.TIMESTAMP_VALUE):# site_no and timestamp value\n",
        "            if processing.PNUMBER not in self.REPLY_QUEUE:\n",
        "                self.REPLY_QUEUE.append(processing.PNUMBER) # if the request didnt get the reply it will be in reply queue \n",
        "    def getreq(self,PNUMBER,timestamp):\n",
        "        if (self.STATES ==\"got held\") or ((self.STATES==\" been wanted\") & (self.TIMESTAMP_VALUE < timestamp)): # this is the condition for giving priority \n",
        "           if PNUMBER not in self.REQUESTING_QUEUE:\n",
        "               self.REQUESTING_QUEUE.append(PNUMBER)\n",
        "           return False\n",
        "        else:\n",
        "           return True   \n",
        "    def RELEASE (self):\n",
        "    # we again initiaize the value of the time stamp\n",
        "        self.TIMESTAMP_VALUE = np.nan \n",
        "    # we here release the state \n",
        "        self.STATES = \"BEEN RELEASED\"\n",
        "        self.REPLY_QUEUE=[] \n",
        "        return self.REQUESTING_QUEUE\n",
        "    def To_run_The_State(self):\n",
        "    # printing the states for the process \n",
        "        print(\"STATES FOR THE PROCESS IS :\",self.PNUMBER)\n",
        "    # printing how many replies have been recieved \n",
        "        print(\"COUNT OF REPLIES RECIEVED IS:\",len(self.REPLY_QUEUE))\n",
        "    # printing how many request have been queued for being replied\n",
        "        print(\"COUNT OF REQUESTS THAT HAVE BEEN QUEUED IS:\",len(self.REQUESTING_QUEUE))\n",
        " # RICART-AGARWALA ALGORITHM :\n",
        " # How it works - if the site has to enter the critical section it should follow some of the rules.\n",
        " # ---> let us assume i and j as site.\n",
        " # ---> i send request to other site with respective timsptamp when j recieves the request it send reply iff  \n",
        " # ---> // j is neither requesting nor executing the critical section \n",
        " # ---> // if i's timstamp is smaller than its own \n",
        "class ricart_agarwala_algorithm():\n",
        "   def __init__(self,numofp=4,maximum_time=5):\n",
        "       self.processing_dicti = {}\n",
        "\n",
        "       for x in range(numofp):\n",
        "           self.processing_dicti[x]=processing(x)\n",
        "       self.numofp = numofp\n",
        "       self.UNITVALUE = 0\n",
        "       self.CRIT = []\n",
        "       self.maximum_time = maximum_time \n",
        "       self.RUNNING()\n",
        "   def RUN(self):\n",
        "       r=random.randint(0,self.numofp-1)\n",
        "       if self.processing_dicti[r].STATES==\"BEEN RELEASED\":\n",
        "           self.processing_dicti[r].STATES=\"been wanted\"\n",
        "           self.processing_dicti[r].TIMESTAMP_VALUE = self.UNITVALUE\n",
        "           Rqset= [x for x in self.processing_dicti.keys() if x!=r]\n",
        "       elif self.processing_dicti[r].STATES ==\"got held\":\n",
        "           Rqset=self.processing_dicti[r].RELEASE()\n",
        "        # here we clear all the requests\n",
        "           self.processing_dicti[r].REQUESTING_QUEUE=[]\n",
        "        # here we send the request from r to all other site via Req queu \n",
        "           for x in Rqset:\n",
        "               self.processing_dicti[x].req(self.processing_dicti[r])\n",
        "           self.CRIT.remove(r)\n",
        "           return\n",
        "       else:\n",
        "           Rqset=[x for x in self.processing_dicti.keys() if x!=r]    \n",
        "       for x in Rqset:\n",
        "           self.processing_dicti[r].req(self.processing_dicti[x])\n",
        "       self.checking_it()\n",
        "   def checking_it(self):\n",
        "       for x in self.processing_dicti:\n",
        "           if(len(self.processing_dicti[x].REPLY_QUEUE)==(self.numofp-1)):\n",
        "               self.processing_dicti[x].STATES=\"got held\"  \n",
        "          # here we clear all the replies after it enters the critical section  \n",
        "               self.processing_dicti[x].REPLY_QUEUE=[]\n",
        "               self.CRIT.append(x)\n",
        "# executing critical section - site i enters the critical section iff it has get the reply from all other sites\n",
        "# releasing critical section - exiting site si sending reply message to all request            \n",
        "   def RUNNING(self):\n",
        "       while self.UNITVALUE<self.maximum_time:\n",
        "          self.RUN()\n",
        "          print(\"states for the time\",self.UNITVALUE)\n",
        "          print(\"The Critical section:\",\",\".join([str(y) for y in self.CRIT]))# printing the critical section\n",
        "          print(\"\\n\")\n",
        "          for s in self.processing_dicti:\n",
        "              self.processing_dicti[s].To_run_The_State()\n",
        "              print(\"\\n\")\n",
        "          self.UNITVALUE = self.UNITVALUE +1  \n",
        "# this algorithm involves 2(n-1) like (n-1) for request and another (n-1) for reply message.   \n",
        "# performance - synchronization delay is equal to the max messeage transmission timing   "
      ],
      "execution_count": 32,
      "outputs": []
    },
    {
      "cell_type": "code",
      "metadata": {
        "id": "iiEZU-a_QlU6",
        "colab": {
          "base_uri": "https://localhost:8080/"
        },
        "outputId": "c769616c-7538-4c6d-80c9-cda23e4eea68"
      },
      "source": [
        "# calling the ricart_agarwala_algorithm function:\n",
        "ricart_agarwala_algorithm()\n",
        "# this is the obtained output"
      ],
      "execution_count": 34,
      "outputs": [
        {
          "output_type": "stream",
          "name": "stdout",
          "text": [
            "states for the time 0\n",
            "The Critical section: 2\n",
            "\n",
            "\n",
            "STATES FOR THE PROCESS IS : 0\n",
            "COUNT OF REPLIES RECIEVED IS: 0\n",
            "COUNT OF REQUESTS THAT HAVE BEEN QUEUED IS: 0\n",
            "\n",
            "\n",
            "STATES FOR THE PROCESS IS : 1\n",
            "COUNT OF REPLIES RECIEVED IS: 0\n",
            "COUNT OF REQUESTS THAT HAVE BEEN QUEUED IS: 0\n",
            "\n",
            "\n",
            "STATES FOR THE PROCESS IS : 2\n",
            "COUNT OF REPLIES RECIEVED IS: 0\n",
            "COUNT OF REQUESTS THAT HAVE BEEN QUEUED IS: 0\n",
            "\n",
            "\n",
            "STATES FOR THE PROCESS IS : 3\n",
            "COUNT OF REPLIES RECIEVED IS: 0\n",
            "COUNT OF REQUESTS THAT HAVE BEEN QUEUED IS: 0\n",
            "\n",
            "\n",
            "states for the time 1\n",
            "The Critical section: \n",
            "\n",
            "\n",
            "STATES FOR THE PROCESS IS : 0\n",
            "COUNT OF REPLIES RECIEVED IS: 0\n",
            "COUNT OF REQUESTS THAT HAVE BEEN QUEUED IS: 0\n",
            "\n",
            "\n",
            "STATES FOR THE PROCESS IS : 1\n",
            "COUNT OF REPLIES RECIEVED IS: 0\n",
            "COUNT OF REQUESTS THAT HAVE BEEN QUEUED IS: 0\n",
            "\n",
            "\n",
            "STATES FOR THE PROCESS IS : 2\n",
            "COUNT OF REPLIES RECIEVED IS: 0\n",
            "COUNT OF REQUESTS THAT HAVE BEEN QUEUED IS: 0\n",
            "\n",
            "\n",
            "STATES FOR THE PROCESS IS : 3\n",
            "COUNT OF REPLIES RECIEVED IS: 0\n",
            "COUNT OF REQUESTS THAT HAVE BEEN QUEUED IS: 0\n",
            "\n",
            "\n",
            "states for the time 2\n",
            "The Critical section: 2\n",
            "\n",
            "\n",
            "STATES FOR THE PROCESS IS : 0\n",
            "COUNT OF REPLIES RECIEVED IS: 0\n",
            "COUNT OF REQUESTS THAT HAVE BEEN QUEUED IS: 0\n",
            "\n",
            "\n",
            "STATES FOR THE PROCESS IS : 1\n",
            "COUNT OF REPLIES RECIEVED IS: 0\n",
            "COUNT OF REQUESTS THAT HAVE BEEN QUEUED IS: 0\n",
            "\n",
            "\n",
            "STATES FOR THE PROCESS IS : 2\n",
            "COUNT OF REPLIES RECIEVED IS: 0\n",
            "COUNT OF REQUESTS THAT HAVE BEEN QUEUED IS: 0\n",
            "\n",
            "\n",
            "STATES FOR THE PROCESS IS : 3\n",
            "COUNT OF REPLIES RECIEVED IS: 0\n",
            "COUNT OF REQUESTS THAT HAVE BEEN QUEUED IS: 0\n",
            "\n",
            "\n",
            "states for the time 3\n",
            "The Critical section: 2\n",
            "\n",
            "\n",
            "STATES FOR THE PROCESS IS : 0\n",
            "COUNT OF REPLIES RECIEVED IS: 0\n",
            "COUNT OF REQUESTS THAT HAVE BEEN QUEUED IS: 0\n",
            "\n",
            "\n",
            "STATES FOR THE PROCESS IS : 1\n",
            "COUNT OF REPLIES RECIEVED IS: 0\n",
            "COUNT OF REQUESTS THAT HAVE BEEN QUEUED IS: 0\n",
            "\n",
            "\n",
            "STATES FOR THE PROCESS IS : 2\n",
            "COUNT OF REPLIES RECIEVED IS: 0\n",
            "COUNT OF REQUESTS THAT HAVE BEEN QUEUED IS: 1\n",
            "\n",
            "\n",
            "STATES FOR THE PROCESS IS : 3\n",
            "COUNT OF REPLIES RECIEVED IS: 2\n",
            "COUNT OF REQUESTS THAT HAVE BEEN QUEUED IS: 0\n",
            "\n",
            "\n",
            "states for the time 4\n",
            "The Critical section: 2\n",
            "\n",
            "\n",
            "STATES FOR THE PROCESS IS : 0\n",
            "COUNT OF REPLIES RECIEVED IS: 2\n",
            "COUNT OF REQUESTS THAT HAVE BEEN QUEUED IS: 0\n",
            "\n",
            "\n",
            "STATES FOR THE PROCESS IS : 1\n",
            "COUNT OF REPLIES RECIEVED IS: 0\n",
            "COUNT OF REQUESTS THAT HAVE BEEN QUEUED IS: 0\n",
            "\n",
            "\n",
            "STATES FOR THE PROCESS IS : 2\n",
            "COUNT OF REPLIES RECIEVED IS: 0\n",
            "COUNT OF REQUESTS THAT HAVE BEEN QUEUED IS: 2\n",
            "\n",
            "\n",
            "STATES FOR THE PROCESS IS : 3\n",
            "COUNT OF REPLIES RECIEVED IS: 2\n",
            "COUNT OF REQUESTS THAT HAVE BEEN QUEUED IS: 0\n",
            "\n",
            "\n"
          ]
        },
        {
          "output_type": "execute_result",
          "data": {
            "text/plain": [
              "<__main__.ricart_agarwala_algorithm at 0x7f2119f4a790>"
            ]
          },
          "metadata": {},
          "execution_count": 34
        }
      ]
    },
    {
      "cell_type": "code",
      "metadata": {
        "id": "TSN2utfFTRTh"
      },
      "source": [
        ""
      ],
      "execution_count": null,
      "outputs": []
    },
    {
      "cell_type": "code",
      "metadata": {
        "id": "oTUeB8VVT-q8"
      },
      "source": [
        ""
      ],
      "execution_count": null,
      "outputs": []
    },
    {
      "cell_type": "code",
      "metadata": {
        "colab": {
          "base_uri": "https://localhost:8080/"
        },
        "id": "0zhzEagNsr1N",
        "outputId": "da67a83e-6064-49c6-8916-61e37e3dc6d4"
      },
      "source": [
        ""
      ],
      "execution_count": null,
      "outputs": [
        {
          "output_type": "execute_result",
          "data": {
            "text/plain": [
              "<__main__.ricart_algo at 0x7f6e73002f90>"
            ]
          },
          "metadata": {},
          "execution_count": 35
        }
      ]
    }
  ]
}